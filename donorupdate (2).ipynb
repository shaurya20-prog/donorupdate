{
 "cells": [
  {
   "cell_type": "code",
   "execution_count": 1,
   "metadata": {},
   "outputs": [],
   "source": [
    "import numpy as np \n",
    "import pandas as pd\n",
    "\n"
   ]
  },
  {
   "cell_type": "code",
   "execution_count": 2,
   "metadata": {},
   "outputs": [],
   "source": [
    "train = pd.read_csv(r\"C:\\Users\\M1050678\\Downloads\\train_ty\\train.csv\",index_col=\"id\",low_memory=False,parse_dates=[\"project_submitted_datetime\"])"
   ]
  },
  {
   "cell_type": "code",
   "execution_count": 3,
   "metadata": {},
   "outputs": [
    {
     "name": "stdout",
     "output_type": "stream",
     "text": [
      "shape: (182080, 15)\n"
     ]
    }
   ],
   "source": [
    "print(\"shape:\",train.shape)"
   ]
  },
  {
   "cell_type": "code",
   "execution_count": 4,
   "metadata": {},
   "outputs": [],
   "source": [
    "index = train.index"
   ]
  },
  {
   "cell_type": "code",
   "execution_count": 5,
   "metadata": {},
   "outputs": [],
   "source": [
    "target = train[\"project_is_approved\"].copy()"
   ]
  },
  {
   "cell_type": "code",
   "execution_count": 6,
   "metadata": {},
   "outputs": [],
   "source": [
    "train.drop([\"project_is_approved\",\"teacher_id\"],inplace = True , axis =1)"
   ]
  },
  {
   "cell_type": "code",
   "execution_count": 7,
   "metadata": {},
   "outputs": [
    {
     "data": {
      "text/html": [
       "<div>\n",
       "<style scoped>\n",
       "    .dataframe tbody tr th:only-of-type {\n",
       "        vertical-align: middle;\n",
       "    }\n",
       "\n",
       "    .dataframe tbody tr th {\n",
       "        vertical-align: top;\n",
       "    }\n",
       "\n",
       "    .dataframe thead th {\n",
       "        text-align: right;\n",
       "    }\n",
       "</style>\n",
       "<table border=\"1\" class=\"dataframe\">\n",
       "  <thead>\n",
       "    <tr style=\"text-align: right;\">\n",
       "      <th></th>\n",
       "      <th>teacher_prefix</th>\n",
       "      <th>school_state</th>\n",
       "      <th>project_submitted_datetime</th>\n",
       "      <th>project_grade_category</th>\n",
       "      <th>project_subject_categories</th>\n",
       "      <th>project_subject_subcategories</th>\n",
       "      <th>project_title</th>\n",
       "      <th>project_essay_1</th>\n",
       "      <th>project_essay_2</th>\n",
       "      <th>project_essay_3</th>\n",
       "      <th>project_essay_4</th>\n",
       "      <th>project_resource_summary</th>\n",
       "      <th>teacher_number_of_previously_posted_projects</th>\n",
       "    </tr>\n",
       "    <tr>\n",
       "      <th>id</th>\n",
       "      <th></th>\n",
       "      <th></th>\n",
       "      <th></th>\n",
       "      <th></th>\n",
       "      <th></th>\n",
       "      <th></th>\n",
       "      <th></th>\n",
       "      <th></th>\n",
       "      <th></th>\n",
       "      <th></th>\n",
       "      <th></th>\n",
       "      <th></th>\n",
       "      <th></th>\n",
       "    </tr>\n",
       "  </thead>\n",
       "  <tbody>\n",
       "    <tr>\n",
       "      <th>p036502</th>\n",
       "      <td>Ms.</td>\n",
       "      <td>NV</td>\n",
       "      <td>2016-11-18 14:45:59</td>\n",
       "      <td>Grades PreK-2</td>\n",
       "      <td>Literacy &amp; Language</td>\n",
       "      <td>Literacy</td>\n",
       "      <td>Super Sight Word Centers</td>\n",
       "      <td>Most of my kindergarten students come from low...</td>\n",
       "      <td>I currently have a differentiated sight word c...</td>\n",
       "      <td>NaN</td>\n",
       "      <td>NaN</td>\n",
       "      <td>My students need 6 Ipod Nano's to create and d...</td>\n",
       "      <td>26</td>\n",
       "    </tr>\n",
       "    <tr>\n",
       "      <th>p039565</th>\n",
       "      <td>Mrs.</td>\n",
       "      <td>GA</td>\n",
       "      <td>2017-04-26 15:57:28</td>\n",
       "      <td>Grades 3-5</td>\n",
       "      <td>Music &amp; The Arts, Health &amp; Sports</td>\n",
       "      <td>Performing Arts, Team Sports</td>\n",
       "      <td>Keep Calm and Dance On</td>\n",
       "      <td>Our elementary school is a culturally rich sch...</td>\n",
       "      <td>We strive to provide our diverse population of...</td>\n",
       "      <td>NaN</td>\n",
       "      <td>NaN</td>\n",
       "      <td>My students need matching shirts to wear for d...</td>\n",
       "      <td>1</td>\n",
       "    </tr>\n",
       "    <tr>\n",
       "      <th>p233823</th>\n",
       "      <td>Ms.</td>\n",
       "      <td>UT</td>\n",
       "      <td>2017-01-01 22:57:44</td>\n",
       "      <td>Grades 3-5</td>\n",
       "      <td>Math &amp; Science, Literacy &amp; Language</td>\n",
       "      <td>Applied Sciences, Literature &amp; Writing</td>\n",
       "      <td>Lets 3Doodle to Learn</td>\n",
       "      <td>Hello;\\r\\nMy name is Mrs. Brotherton. I teach ...</td>\n",
       "      <td>We are looking to add some 3Doodler to our cla...</td>\n",
       "      <td>NaN</td>\n",
       "      <td>NaN</td>\n",
       "      <td>My students need the 3doodler. We are an SEM s...</td>\n",
       "      <td>5</td>\n",
       "    </tr>\n",
       "    <tr>\n",
       "      <th>p185307</th>\n",
       "      <td>Mr.</td>\n",
       "      <td>NC</td>\n",
       "      <td>2016-08-12 15:42:11</td>\n",
       "      <td>Grades 3-5</td>\n",
       "      <td>Health &amp; Sports</td>\n",
       "      <td>Health &amp; Wellness</td>\n",
       "      <td>\\\"Kid Inspired\\\" Equipment to Increase Activit...</td>\n",
       "      <td>My students are the greatest students but are ...</td>\n",
       "      <td>The student's project which is totally \\\"kid-i...</td>\n",
       "      <td>NaN</td>\n",
       "      <td>NaN</td>\n",
       "      <td>My students need balls and other activity equi...</td>\n",
       "      <td>16</td>\n",
       "    </tr>\n",
       "    <tr>\n",
       "      <th>p013780</th>\n",
       "      <td>Mr.</td>\n",
       "      <td>CA</td>\n",
       "      <td>2016-08-06 09:09:11</td>\n",
       "      <td>Grades 6-8</td>\n",
       "      <td>Health &amp; Sports</td>\n",
       "      <td>Health &amp; Wellness</td>\n",
       "      <td>We need clean water for our culinary arts class!</td>\n",
       "      <td>My students are athletes and students who are ...</td>\n",
       "      <td>For some reason in our kitchen the water comes...</td>\n",
       "      <td>NaN</td>\n",
       "      <td>NaN</td>\n",
       "      <td>My students need a water filtration system for...</td>\n",
       "      <td>42</td>\n",
       "    </tr>\n",
       "  </tbody>\n",
       "</table>\n",
       "</div>"
      ],
      "text/plain": [
       "        teacher_prefix school_state project_submitted_datetime  \\\n",
       "id                                                               \n",
       "p036502            Ms.           NV        2016-11-18 14:45:59   \n",
       "p039565           Mrs.           GA        2017-04-26 15:57:28   \n",
       "p233823            Ms.           UT        2017-01-01 22:57:44   \n",
       "p185307            Mr.           NC        2016-08-12 15:42:11   \n",
       "p013780            Mr.           CA        2016-08-06 09:09:11   \n",
       "\n",
       "        project_grade_category           project_subject_categories  \\\n",
       "id                                                                    \n",
       "p036502          Grades PreK-2                  Literacy & Language   \n",
       "p039565             Grades 3-5    Music & The Arts, Health & Sports   \n",
       "p233823             Grades 3-5  Math & Science, Literacy & Language   \n",
       "p185307             Grades 3-5                      Health & Sports   \n",
       "p013780             Grades 6-8                      Health & Sports   \n",
       "\n",
       "                  project_subject_subcategories  \\\n",
       "id                                                \n",
       "p036502                                Literacy   \n",
       "p039565            Performing Arts, Team Sports   \n",
       "p233823  Applied Sciences, Literature & Writing   \n",
       "p185307                       Health & Wellness   \n",
       "p013780                       Health & Wellness   \n",
       "\n",
       "                                             project_title  \\\n",
       "id                                                           \n",
       "p036502                           Super Sight Word Centers   \n",
       "p039565                             Keep Calm and Dance On   \n",
       "p233823                              Lets 3Doodle to Learn   \n",
       "p185307  \\\"Kid Inspired\\\" Equipment to Increase Activit...   \n",
       "p013780   We need clean water for our culinary arts class!   \n",
       "\n",
       "                                           project_essay_1  \\\n",
       "id                                                           \n",
       "p036502  Most of my kindergarten students come from low...   \n",
       "p039565  Our elementary school is a culturally rich sch...   \n",
       "p233823  Hello;\\r\\nMy name is Mrs. Brotherton. I teach ...   \n",
       "p185307  My students are the greatest students but are ...   \n",
       "p013780  My students are athletes and students who are ...   \n",
       "\n",
       "                                           project_essay_2 project_essay_3  \\\n",
       "id                                                                           \n",
       "p036502  I currently have a differentiated sight word c...             NaN   \n",
       "p039565  We strive to provide our diverse population of...             NaN   \n",
       "p233823  We are looking to add some 3Doodler to our cla...             NaN   \n",
       "p185307  The student's project which is totally \\\"kid-i...             NaN   \n",
       "p013780  For some reason in our kitchen the water comes...             NaN   \n",
       "\n",
       "        project_essay_4                           project_resource_summary  \\\n",
       "id                                                                           \n",
       "p036502             NaN  My students need 6 Ipod Nano's to create and d...   \n",
       "p039565             NaN  My students need matching shirts to wear for d...   \n",
       "p233823             NaN  My students need the 3doodler. We are an SEM s...   \n",
       "p185307             NaN  My students need balls and other activity equi...   \n",
       "p013780             NaN  My students need a water filtration system for...   \n",
       "\n",
       "         teacher_number_of_previously_posted_projects  \n",
       "id                                                     \n",
       "p036502                                            26  \n",
       "p039565                                             1  \n",
       "p233823                                             5  \n",
       "p185307                                            16  \n",
       "p013780                                            42  "
      ]
     },
     "execution_count": 7,
     "metadata": {},
     "output_type": "execute_result"
    }
   ],
   "source": [
    "train.head(5)"
   ]
  },
  {
   "cell_type": "code",
   "execution_count": 8,
   "metadata": {},
   "outputs": [],
   "source": [
    "train['text'] = train.apply(lambda row: ' '.join([str(row['project_essay_1']), str(row['project_essay_2']), str(row['project_essay_3']), str(row['project_essay_4']),str(row['project_resource_summary']),str(row['project_title']),]), axis=1)"
   ]
  },
  {
   "cell_type": "code",
   "execution_count": 9,
   "metadata": {},
   "outputs": [],
   "source": [
    "text= train['text']"
   ]
  },
  {
   "cell_type": "code",
   "execution_count": 10,
   "metadata": {},
   "outputs": [],
   "source": [
    "train[\"Year\"] = train[\"project_submitted_datetime\"].dt.year\n",
    "train[\"Day of Year\"] = train['project_submitted_datetime'].dt.dayofyear\n",
    "train[\"Weekday\"] = train['project_submitted_datetime'].dt.weekday\n",
    "train[\"Day of Month\"] = train['project_submitted_datetime'].dt.day\n"
   ]
  },
  {
   "cell_type": "code",
   "execution_count": 11,
   "metadata": {},
   "outputs": [],
   "source": [
    "train = pd.get_dummies(train, columns=['Weekday','Day of Month','Year','Day of Year','teacher_prefix','school_state','project_grade_category'],sparse=True)"
   ]
  },
  {
   "cell_type": "code",
   "execution_count": 12,
   "metadata": {},
   "outputs": [],
   "source": [
    "train.drop(['project_essay_1','project_essay_2','project_essay_3','project_essay_4','project_subject_categories',\"project_subject_subcategories\",\"project_resource_summary\",\"project_title\",\"project_submitted_datetime\"],axis=1,inplace=True)"
   ]
  },
  {
   "cell_type": "code",
   "execution_count": 13,
   "metadata": {},
   "outputs": [],
   "source": [
    "train.drop('text', axis=1, inplace=True)"
   ]
  },
  {
   "cell_type": "code",
   "execution_count": 14,
   "metadata": {},
   "outputs": [
    {
     "data": {
      "text/html": [
       "<div>\n",
       "<style scoped>\n",
       "    .dataframe tbody tr th:only-of-type {\n",
       "        vertical-align: middle;\n",
       "    }\n",
       "\n",
       "    .dataframe tbody tr th {\n",
       "        vertical-align: top;\n",
       "    }\n",
       "\n",
       "    .dataframe thead th {\n",
       "        text-align: right;\n",
       "    }\n",
       "</style>\n",
       "<table border=\"1\" class=\"dataframe\">\n",
       "  <thead>\n",
       "    <tr style=\"text-align: right;\">\n",
       "      <th></th>\n",
       "      <th>teacher_number_of_previously_posted_projects</th>\n",
       "      <th>Weekday_0</th>\n",
       "      <th>Weekday_1</th>\n",
       "      <th>Weekday_2</th>\n",
       "      <th>Weekday_3</th>\n",
       "      <th>Weekday_4</th>\n",
       "      <th>Weekday_5</th>\n",
       "      <th>Weekday_6</th>\n",
       "      <th>Day of Month_1</th>\n",
       "      <th>Day of Month_2</th>\n",
       "      <th>...</th>\n",
       "      <th>school_state_VA</th>\n",
       "      <th>school_state_VT</th>\n",
       "      <th>school_state_WA</th>\n",
       "      <th>school_state_WI</th>\n",
       "      <th>school_state_WV</th>\n",
       "      <th>school_state_WY</th>\n",
       "      <th>project_grade_category_Grades 3-5</th>\n",
       "      <th>project_grade_category_Grades 6-8</th>\n",
       "      <th>project_grade_category_Grades 9-12</th>\n",
       "      <th>project_grade_category_Grades PreK-2</th>\n",
       "    </tr>\n",
       "    <tr>\n",
       "      <th>id</th>\n",
       "      <th></th>\n",
       "      <th></th>\n",
       "      <th></th>\n",
       "      <th></th>\n",
       "      <th></th>\n",
       "      <th></th>\n",
       "      <th></th>\n",
       "      <th></th>\n",
       "      <th></th>\n",
       "      <th></th>\n",
       "      <th></th>\n",
       "      <th></th>\n",
       "      <th></th>\n",
       "      <th></th>\n",
       "      <th></th>\n",
       "      <th></th>\n",
       "      <th></th>\n",
       "      <th></th>\n",
       "      <th></th>\n",
       "      <th></th>\n",
       "      <th></th>\n",
       "    </tr>\n",
       "  </thead>\n",
       "  <tbody>\n",
       "    <tr>\n",
       "      <th>p036502</th>\n",
       "      <td>26</td>\n",
       "      <td>0</td>\n",
       "      <td>0</td>\n",
       "      <td>0</td>\n",
       "      <td>0</td>\n",
       "      <td>1</td>\n",
       "      <td>0</td>\n",
       "      <td>0</td>\n",
       "      <td>0</td>\n",
       "      <td>0</td>\n",
       "      <td>...</td>\n",
       "      <td>0</td>\n",
       "      <td>0</td>\n",
       "      <td>0</td>\n",
       "      <td>0</td>\n",
       "      <td>0</td>\n",
       "      <td>0</td>\n",
       "      <td>0</td>\n",
       "      <td>0</td>\n",
       "      <td>0</td>\n",
       "      <td>1</td>\n",
       "    </tr>\n",
       "    <tr>\n",
       "      <th>p039565</th>\n",
       "      <td>1</td>\n",
       "      <td>0</td>\n",
       "      <td>0</td>\n",
       "      <td>1</td>\n",
       "      <td>0</td>\n",
       "      <td>0</td>\n",
       "      <td>0</td>\n",
       "      <td>0</td>\n",
       "      <td>0</td>\n",
       "      <td>0</td>\n",
       "      <td>...</td>\n",
       "      <td>0</td>\n",
       "      <td>0</td>\n",
       "      <td>0</td>\n",
       "      <td>0</td>\n",
       "      <td>0</td>\n",
       "      <td>0</td>\n",
       "      <td>1</td>\n",
       "      <td>0</td>\n",
       "      <td>0</td>\n",
       "      <td>0</td>\n",
       "    </tr>\n",
       "    <tr>\n",
       "      <th>p233823</th>\n",
       "      <td>5</td>\n",
       "      <td>0</td>\n",
       "      <td>0</td>\n",
       "      <td>0</td>\n",
       "      <td>0</td>\n",
       "      <td>0</td>\n",
       "      <td>0</td>\n",
       "      <td>1</td>\n",
       "      <td>1</td>\n",
       "      <td>0</td>\n",
       "      <td>...</td>\n",
       "      <td>0</td>\n",
       "      <td>0</td>\n",
       "      <td>0</td>\n",
       "      <td>0</td>\n",
       "      <td>0</td>\n",
       "      <td>0</td>\n",
       "      <td>1</td>\n",
       "      <td>0</td>\n",
       "      <td>0</td>\n",
       "      <td>0</td>\n",
       "    </tr>\n",
       "    <tr>\n",
       "      <th>p185307</th>\n",
       "      <td>16</td>\n",
       "      <td>0</td>\n",
       "      <td>0</td>\n",
       "      <td>0</td>\n",
       "      <td>0</td>\n",
       "      <td>1</td>\n",
       "      <td>0</td>\n",
       "      <td>0</td>\n",
       "      <td>0</td>\n",
       "      <td>0</td>\n",
       "      <td>...</td>\n",
       "      <td>0</td>\n",
       "      <td>0</td>\n",
       "      <td>0</td>\n",
       "      <td>0</td>\n",
       "      <td>0</td>\n",
       "      <td>0</td>\n",
       "      <td>1</td>\n",
       "      <td>0</td>\n",
       "      <td>0</td>\n",
       "      <td>0</td>\n",
       "    </tr>\n",
       "    <tr>\n",
       "      <th>p013780</th>\n",
       "      <td>42</td>\n",
       "      <td>0</td>\n",
       "      <td>0</td>\n",
       "      <td>0</td>\n",
       "      <td>0</td>\n",
       "      <td>0</td>\n",
       "      <td>1</td>\n",
       "      <td>0</td>\n",
       "      <td>0</td>\n",
       "      <td>0</td>\n",
       "      <td>...</td>\n",
       "      <td>0</td>\n",
       "      <td>0</td>\n",
       "      <td>0</td>\n",
       "      <td>0</td>\n",
       "      <td>0</td>\n",
       "      <td>0</td>\n",
       "      <td>0</td>\n",
       "      <td>1</td>\n",
       "      <td>0</td>\n",
       "      <td>0</td>\n",
       "    </tr>\n",
       "  </tbody>\n",
       "</table>\n",
       "<p>5 rows × 467 columns</p>\n",
       "</div>"
      ],
      "text/plain": [
       "         teacher_number_of_previously_posted_projects  Weekday_0  Weekday_1  \\\n",
       "id                                                                            \n",
       "p036502                                            26          0          0   \n",
       "p039565                                             1          0          0   \n",
       "p233823                                             5          0          0   \n",
       "p185307                                            16          0          0   \n",
       "p013780                                            42          0          0   \n",
       "\n",
       "         Weekday_2  Weekday_3  Weekday_4  Weekday_5  Weekday_6  \\\n",
       "id                                                               \n",
       "p036502          0          0          1          0          0   \n",
       "p039565          1          0          0          0          0   \n",
       "p233823          0          0          0          0          1   \n",
       "p185307          0          0          1          0          0   \n",
       "p013780          0          0          0          1          0   \n",
       "\n",
       "         Day of Month_1  Day of Month_2  ...  school_state_VA  \\\n",
       "id                                       ...                    \n",
       "p036502               0               0  ...                0   \n",
       "p039565               0               0  ...                0   \n",
       "p233823               1               0  ...                0   \n",
       "p185307               0               0  ...                0   \n",
       "p013780               0               0  ...                0   \n",
       "\n",
       "         school_state_VT  school_state_WA  school_state_WI  school_state_WV  \\\n",
       "id                                                                            \n",
       "p036502                0                0                0                0   \n",
       "p039565                0                0                0                0   \n",
       "p233823                0                0                0                0   \n",
       "p185307                0                0                0                0   \n",
       "p013780                0                0                0                0   \n",
       "\n",
       "         school_state_WY  project_grade_category_Grades 3-5  \\\n",
       "id                                                            \n",
       "p036502                0                                  0   \n",
       "p039565                0                                  1   \n",
       "p233823                0                                  1   \n",
       "p185307                0                                  1   \n",
       "p013780                0                                  0   \n",
       "\n",
       "         project_grade_category_Grades 6-8  \\\n",
       "id                                           \n",
       "p036502                                  0   \n",
       "p039565                                  0   \n",
       "p233823                                  0   \n",
       "p185307                                  0   \n",
       "p013780                                  1   \n",
       "\n",
       "         project_grade_category_Grades 9-12  \\\n",
       "id                                            \n",
       "p036502                                   0   \n",
       "p039565                                   0   \n",
       "p233823                                   0   \n",
       "p185307                                   0   \n",
       "p013780                                   0   \n",
       "\n",
       "         project_grade_category_Grades PreK-2  \n",
       "id                                             \n",
       "p036502                                     1  \n",
       "p039565                                     0  \n",
       "p233823                                     0  \n",
       "p185307                                     0  \n",
       "p013780                                     0  \n",
       "\n",
       "[5 rows x 467 columns]"
      ]
     },
     "execution_count": 14,
     "metadata": {},
     "output_type": "execute_result"
    }
   ],
   "source": [
    "train.head(5)"
   ]
  },
  {
   "cell_type": "code",
   "execution_count": 15,
   "metadata": {},
   "outputs": [],
   "source": [
    "new_index = train.index"
   ]
  },
  {
   "cell_type": "code",
   "execution_count": 16,
   "metadata": {},
   "outputs": [],
   "source": [
    "from sklearn.feature_extraction.text import TfidfVectorizer\n",
    "from scipy.sparse import hstack, csr_matrix"
   ]
  },
  {
   "cell_type": "code",
   "execution_count": 17,
   "metadata": {},
   "outputs": [],
   "source": [
    "word_vectorizer = TfidfVectorizer(\n",
    "    sublinear_tf=True,\n",
    "    strip_accents='unicode',\n",
    "    analyzer='word',\n",
    "    token_pattern=r'\\w{1,}',\n",
    "    ngram_range=(1,1),\n",
    "    dtype=np.float32,\n",
    "    max_features=5000\n",
    ")"
   ]
  },
  {
   "cell_type": "code",
   "execution_count": 18,
   "metadata": {},
   "outputs": [
    {
     "data": {
      "text/plain": [
       "TfidfVectorizer(analyzer='word', binary=False, decode_error='strict',\n",
       "        dtype=<class 'numpy.float32'>, encoding='utf-8', input='content',\n",
       "        lowercase=True, max_df=1.0, max_features=5000, min_df=1,\n",
       "        ngram_range=(1, 1), norm='l2', preprocessor=None, smooth_idf=True,\n",
       "        stop_words=None, strip_accents='unicode', sublinear_tf=True,\n",
       "        token_pattern='\\\\w{1,}', tokenizer=None, use_idf=True,\n",
       "        vocabulary=None)"
      ]
     },
     "execution_count": 18,
     "metadata": {},
     "output_type": "execute_result"
    }
   ],
   "source": [
    "word_vectorizer.fit(text[index])"
   ]
  },
  {
   "cell_type": "code",
   "execution_count": 19,
   "metadata": {},
   "outputs": [],
   "source": [
    "train_word_features = word_vectorizer.transform(text[index])\n"
   ]
  },
  {
   "cell_type": "code",
   "execution_count": 20,
   "metadata": {},
   "outputs": [],
   "source": [
    "from sklearn.preprocessing import StandardScaler"
   ]
  },
  {
   "cell_type": "code",
   "execution_count": 21,
   "metadata": {},
   "outputs": [],
   "source": [
    "stdscalar = StandardScaler()"
   ]
  },
  {
   "cell_type": "code",
   "execution_count": 22,
   "metadata": {},
   "outputs": [],
   "source": [
    "teacher_number_of_previously_posted_projects = train['teacher_number_of_previously_posted_projects']"
   ]
  },
  {
   "cell_type": "code",
   "execution_count": 23,
   "metadata": {},
   "outputs": [
    {
     "data": {
      "text/plain": [
       "(182080,)"
      ]
     },
     "execution_count": 23,
     "metadata": {},
     "output_type": "execute_result"
    }
   ],
   "source": [
    "teacher_number_of_previously_posted_projects.shape"
   ]
  },
  {
   "cell_type": "code",
   "execution_count": 24,
   "metadata": {},
   "outputs": [
    {
     "name": "stderr",
     "output_type": "stream",
     "text": [
      "C:\\Users\\M1050678\\AppData\\Local\\Continuum\\anaconda3\\lib\\site-packages\\sklearn\\utils\\validation.py:595: DataConversionWarning: Data with input dtype int64 was converted to float64 by StandardScaler.\n",
      "  warnings.warn(msg, DataConversionWarning)\n",
      "C:\\Users\\M1050678\\AppData\\Local\\Continuum\\anaconda3\\lib\\site-packages\\sklearn\\utils\\validation.py:595: DataConversionWarning: Data with input dtype int64 was converted to float64 by StandardScaler.\n",
      "  warnings.warn(msg, DataConversionWarning)\n"
     ]
    }
   ],
   "source": [
    "scaled = stdscalar.fit_transform(teacher_number_of_previously_posted_projects.values.reshape(-1,1))"
   ]
  },
  {
   "cell_type": "code",
   "execution_count": 25,
   "metadata": {},
   "outputs": [
    {
     "data": {
      "text/plain": [
       "(182080, 1)"
      ]
     },
     "execution_count": 25,
     "metadata": {},
     "output_type": "execute_result"
    }
   ],
   "source": [
    "scaled.shape"
   ]
  },
  {
   "cell_type": "code",
   "execution_count": 26,
   "metadata": {},
   "outputs": [],
   "source": [
    "train.drop(['teacher_number_of_previously_posted_projects'],inplace  = True,axis=1)"
   ]
  },
  {
   "cell_type": "code",
   "execution_count": 27,
   "metadata": {},
   "outputs": [],
   "source": [
    "#ntrain = pd.DataFrame(stdscalar.fit_transform(train),columns=train.columns).set_index(new_index)\n"
   ]
  },
  {
   "cell_type": "code",
   "execution_count": 28,
   "metadata": {},
   "outputs": [],
   "source": [
    "train_features = hstack([train_word_features,csr_matrix(train.loc[index,]),csr_matrix(scaled)], 'csr')\n"
   ]
  },
  {
   "cell_type": "code",
   "execution_count": 29,
   "metadata": {},
   "outputs": [
    {
     "data": {
      "text/plain": [
       "(182080, 5467)"
      ]
     },
     "execution_count": 29,
     "metadata": {},
     "output_type": "execute_result"
    }
   ],
   "source": [
    "train_features.shape"
   ]
  },
  {
   "cell_type": "code",
   "execution_count": 30,
   "metadata": {},
   "outputs": [],
   "source": [
    "test = pd.read_csv(r\"C:\\Users\\M1050678\\Downloads\\test\\test.csv\",index_col=\"id\",low_memory=False,parse_dates=[\"project_submitted_datetime\"])\n"
   ]
  },
  {
   "cell_type": "code",
   "execution_count": 31,
   "metadata": {},
   "outputs": [],
   "source": [
    "testindex = test.index"
   ]
  },
  {
   "cell_type": "code",
   "execution_count": 32,
   "metadata": {},
   "outputs": [
    {
     "data": {
      "text/html": [
       "<div>\n",
       "<style scoped>\n",
       "    .dataframe tbody tr th:only-of-type {\n",
       "        vertical-align: middle;\n",
       "    }\n",
       "\n",
       "    .dataframe tbody tr th {\n",
       "        vertical-align: top;\n",
       "    }\n",
       "\n",
       "    .dataframe thead th {\n",
       "        text-align: right;\n",
       "    }\n",
       "</style>\n",
       "<table border=\"1\" class=\"dataframe\">\n",
       "  <thead>\n",
       "    <tr style=\"text-align: right;\">\n",
       "      <th></th>\n",
       "      <th>teacher_id</th>\n",
       "      <th>teacher_prefix</th>\n",
       "      <th>school_state</th>\n",
       "      <th>project_submitted_datetime</th>\n",
       "      <th>project_grade_category</th>\n",
       "      <th>project_subject_categories</th>\n",
       "      <th>project_subject_subcategories</th>\n",
       "      <th>project_title</th>\n",
       "      <th>project_essay_1</th>\n",
       "      <th>project_essay_2</th>\n",
       "      <th>project_essay_3</th>\n",
       "      <th>project_essay_4</th>\n",
       "      <th>project_resource_summary</th>\n",
       "      <th>teacher_number_of_previously_posted_projects</th>\n",
       "    </tr>\n",
       "    <tr>\n",
       "      <th>id</th>\n",
       "      <th></th>\n",
       "      <th></th>\n",
       "      <th></th>\n",
       "      <th></th>\n",
       "      <th></th>\n",
       "      <th></th>\n",
       "      <th></th>\n",
       "      <th></th>\n",
       "      <th></th>\n",
       "      <th></th>\n",
       "      <th></th>\n",
       "      <th></th>\n",
       "      <th></th>\n",
       "      <th></th>\n",
       "    </tr>\n",
       "  </thead>\n",
       "  <tbody>\n",
       "    <tr>\n",
       "      <th>p233245</th>\n",
       "      <td>5724a0c3ce11008366fff36dab4b943c</td>\n",
       "      <td>Ms.</td>\n",
       "      <td>CA</td>\n",
       "      <td>2016-04-27 13:45:41</td>\n",
       "      <td>Grades PreK-2</td>\n",
       "      <td>Music &amp; The Arts</td>\n",
       "      <td>Visual Arts</td>\n",
       "      <td>Art Will Make You Happy!</td>\n",
       "      <td>My 2nd grade students are amazing!  They are v...</td>\n",
       "      <td>My class is made up of 12 boys and 12 girls.  ...</td>\n",
       "      <td>My second grade class will really benefit from...</td>\n",
       "      <td>The genorous donations to my project will make...</td>\n",
       "      <td>My students need a drying rack for their art p...</td>\n",
       "      <td>2</td>\n",
       "    </tr>\n",
       "    <tr>\n",
       "      <th>p096795</th>\n",
       "      <td>445619941dc7cbe81c7be109dc61a56a</td>\n",
       "      <td>Mrs.</td>\n",
       "      <td>SC</td>\n",
       "      <td>2016-04-28 12:43:56</td>\n",
       "      <td>Grades 3-5</td>\n",
       "      <td>Literacy &amp; Language, Math &amp; Science</td>\n",
       "      <td>Literature &amp; Writing, Mathematics</td>\n",
       "      <td>Keeping up with the TIMEs</td>\n",
       "      <td>Students within the classroom work in small gr...</td>\n",
       "      <td>My students are all very talented young indivi...</td>\n",
       "      <td>We do a lot of small group, where the student ...</td>\n",
       "      <td>This project is very important to my classroom...</td>\n",
       "      <td>My students need Time Magazines for next year ...</td>\n",
       "      <td>1</td>\n",
       "    </tr>\n",
       "    <tr>\n",
       "      <th>p236235</th>\n",
       "      <td>e92a4902b1611a189643d6f12c51e6a0</td>\n",
       "      <td>Mrs.</td>\n",
       "      <td>SC</td>\n",
       "      <td>2016-04-29 21:16:05</td>\n",
       "      <td>Grades PreK-2</td>\n",
       "      <td>Math &amp; Science</td>\n",
       "      <td>Applied Sciences, Mathematics</td>\n",
       "      <td>Building Bridges to Problem Solving</td>\n",
       "      <td>My students share  a love of learning. These s...</td>\n",
       "      <td>My class consists of 14 energetic learners.  O...</td>\n",
       "      <td>These Fairy Tale Problem Solving STEM kits wil...</td>\n",
       "      <td>These materials will be help my students with ...</td>\n",
       "      <td>My students need to be mentally stimulated to ...</td>\n",
       "      <td>0</td>\n",
       "    </tr>\n",
       "    <tr>\n",
       "      <th>p233680</th>\n",
       "      <td>8e92622d2985d3faac1de71609c4be72</td>\n",
       "      <td>Mrs.</td>\n",
       "      <td>IA</td>\n",
       "      <td>2016-04-27 22:32:43</td>\n",
       "      <td>Grades PreK-2</td>\n",
       "      <td>Literacy &amp; Language</td>\n",
       "      <td>Literacy</td>\n",
       "      <td>Classroom Library</td>\n",
       "      <td>Reading is the gateway to the soul.  Guiding c...</td>\n",
       "      <td>First graders enter the classroom each day rea...</td>\n",
       "      <td>Book bins will help to organize our classroom ...</td>\n",
       "      <td>When students begin the first grade, many are ...</td>\n",
       "      <td>My students need an organized classroom library.</td>\n",
       "      <td>0</td>\n",
       "    </tr>\n",
       "    <tr>\n",
       "      <th>p171879</th>\n",
       "      <td>91a3c89981f626d9a0d067c65fb186ce</td>\n",
       "      <td>Mr.</td>\n",
       "      <td>CA</td>\n",
       "      <td>2016-04-27 18:59:15</td>\n",
       "      <td>Grades 6-8</td>\n",
       "      <td>Music &amp; The Arts, Special Needs</td>\n",
       "      <td>Performing Arts, Special Needs</td>\n",
       "      <td>Reeds so we can Read</td>\n",
       "      <td>\\\"Mr. Reyes!  I need another reed!\\\"  I hear t...</td>\n",
       "      <td>We have a diverse population with almost entir...</td>\n",
       "      <td>Each day in my class students consume supplies...</td>\n",
       "      <td>My students come from very troubled homes and ...</td>\n",
       "      <td>My students need reeds to perform in class eac...</td>\n",
       "      <td>1</td>\n",
       "    </tr>\n",
       "  </tbody>\n",
       "</table>\n",
       "</div>"
      ],
      "text/plain": [
       "                               teacher_id teacher_prefix school_state  \\\n",
       "id                                                                      \n",
       "p233245  5724a0c3ce11008366fff36dab4b943c            Ms.           CA   \n",
       "p096795  445619941dc7cbe81c7be109dc61a56a           Mrs.           SC   \n",
       "p236235  e92a4902b1611a189643d6f12c51e6a0           Mrs.           SC   \n",
       "p233680  8e92622d2985d3faac1de71609c4be72           Mrs.           IA   \n",
       "p171879  91a3c89981f626d9a0d067c65fb186ce            Mr.           CA   \n",
       "\n",
       "        project_submitted_datetime project_grade_category  \\\n",
       "id                                                          \n",
       "p233245        2016-04-27 13:45:41          Grades PreK-2   \n",
       "p096795        2016-04-28 12:43:56             Grades 3-5   \n",
       "p236235        2016-04-29 21:16:05          Grades PreK-2   \n",
       "p233680        2016-04-27 22:32:43          Grades PreK-2   \n",
       "p171879        2016-04-27 18:59:15             Grades 6-8   \n",
       "\n",
       "                  project_subject_categories  \\\n",
       "id                                             \n",
       "p233245                     Music & The Arts   \n",
       "p096795  Literacy & Language, Math & Science   \n",
       "p236235                       Math & Science   \n",
       "p233680                  Literacy & Language   \n",
       "p171879      Music & The Arts, Special Needs   \n",
       "\n",
       "             project_subject_subcategories  \\\n",
       "id                                           \n",
       "p233245                        Visual Arts   \n",
       "p096795  Literature & Writing, Mathematics   \n",
       "p236235      Applied Sciences, Mathematics   \n",
       "p233680                           Literacy   \n",
       "p171879     Performing Arts, Special Needs   \n",
       "\n",
       "                               project_title  \\\n",
       "id                                             \n",
       "p233245             Art Will Make You Happy!   \n",
       "p096795            Keeping up with the TIMEs   \n",
       "p236235  Building Bridges to Problem Solving   \n",
       "p233680                    Classroom Library   \n",
       "p171879                 Reeds so we can Read   \n",
       "\n",
       "                                           project_essay_1  \\\n",
       "id                                                           \n",
       "p233245  My 2nd grade students are amazing!  They are v...   \n",
       "p096795  Students within the classroom work in small gr...   \n",
       "p236235  My students share  a love of learning. These s...   \n",
       "p233680  Reading is the gateway to the soul.  Guiding c...   \n",
       "p171879  \\\"Mr. Reyes!  I need another reed!\\\"  I hear t...   \n",
       "\n",
       "                                           project_essay_2  \\\n",
       "id                                                           \n",
       "p233245  My class is made up of 12 boys and 12 girls.  ...   \n",
       "p096795  My students are all very talented young indivi...   \n",
       "p236235  My class consists of 14 energetic learners.  O...   \n",
       "p233680  First graders enter the classroom each day rea...   \n",
       "p171879  We have a diverse population with almost entir...   \n",
       "\n",
       "                                           project_essay_3  \\\n",
       "id                                                           \n",
       "p233245  My second grade class will really benefit from...   \n",
       "p096795  We do a lot of small group, where the student ...   \n",
       "p236235  These Fairy Tale Problem Solving STEM kits wil...   \n",
       "p233680  Book bins will help to organize our classroom ...   \n",
       "p171879  Each day in my class students consume supplies...   \n",
       "\n",
       "                                           project_essay_4  \\\n",
       "id                                                           \n",
       "p233245  The genorous donations to my project will make...   \n",
       "p096795  This project is very important to my classroom...   \n",
       "p236235  These materials will be help my students with ...   \n",
       "p233680  When students begin the first grade, many are ...   \n",
       "p171879  My students come from very troubled homes and ...   \n",
       "\n",
       "                                  project_resource_summary  \\\n",
       "id                                                           \n",
       "p233245  My students need a drying rack for their art p...   \n",
       "p096795  My students need Time Magazines for next year ...   \n",
       "p236235  My students need to be mentally stimulated to ...   \n",
       "p233680   My students need an organized classroom library.   \n",
       "p171879  My students need reeds to perform in class eac...   \n",
       "\n",
       "         teacher_number_of_previously_posted_projects  \n",
       "id                                                     \n",
       "p233245                                             2  \n",
       "p096795                                             1  \n",
       "p236235                                             0  \n",
       "p233680                                             0  \n",
       "p171879                                             1  "
      ]
     },
     "execution_count": 32,
     "metadata": {},
     "output_type": "execute_result"
    }
   ],
   "source": [
    "test.head(5)"
   ]
  },
  {
   "cell_type": "code",
   "execution_count": 33,
   "metadata": {},
   "outputs": [
    {
     "data": {
      "text/plain": [
       "(78035, 14)"
      ]
     },
     "execution_count": 33,
     "metadata": {},
     "output_type": "execute_result"
    }
   ],
   "source": [
    "test.shape"
   ]
  },
  {
   "cell_type": "code",
   "execution_count": 34,
   "metadata": {},
   "outputs": [],
   "source": [
    "test.drop([\"teacher_id\"],inplace = True , axis =1)\n"
   ]
  },
  {
   "cell_type": "code",
   "execution_count": 35,
   "metadata": {},
   "outputs": [],
   "source": [
    "test['text'] = test.apply(lambda row: ' '.join([str(row['project_essay_1']), str(row['project_essay_2']), str(row['project_essay_3']), str(row['project_essay_4']),str(row['project_resource_summary']),str(row['project_title']),]), axis=1)"
   ]
  },
  {
   "cell_type": "code",
   "execution_count": 36,
   "metadata": {},
   "outputs": [
    {
     "data": {
      "text/plain": [
       "(78035,)"
      ]
     },
     "execution_count": 36,
     "metadata": {},
     "output_type": "execute_result"
    }
   ],
   "source": [
    "test['text'].shape"
   ]
  },
  {
   "cell_type": "code",
   "execution_count": 37,
   "metadata": {},
   "outputs": [],
   "source": [
    "test[\"Year\"] = test[\"project_submitted_datetime\"].dt.year\n",
    "test[\"Day of Year\"] = test['project_submitted_datetime'].dt.dayofyear\n",
    "test[\"Weekday\"] = test['project_submitted_datetime'].dt.weekday\n",
    "test[\"Day of Month\"] = test['project_submitted_datetime'].dt.day"
   ]
  },
  {
   "cell_type": "code",
   "execution_count": 38,
   "metadata": {},
   "outputs": [],
   "source": [
    "test = pd.get_dummies(test, columns=['Weekday','Day of Month','Year','Day of Year','teacher_prefix','school_state','project_grade_category'],sparse=True)"
   ]
  },
  {
   "cell_type": "code",
   "execution_count": 39,
   "metadata": {},
   "outputs": [],
   "source": [
    "test.drop(['project_essay_1','project_essay_2','project_essay_3','project_essay_4','project_subject_categories',\"project_subject_subcategories\",\"project_resource_summary\",\"project_title\",\"project_submitted_datetime\"],axis=1,inplace=True)"
   ]
  },
  {
   "cell_type": "code",
   "execution_count": 40,
   "metadata": {},
   "outputs": [],
   "source": [
    "text = test['text']"
   ]
  },
  {
   "cell_type": "code",
   "execution_count": 41,
   "metadata": {},
   "outputs": [
    {
     "data": {
      "text/plain": [
       "(78035,)"
      ]
     },
     "execution_count": 41,
     "metadata": {},
     "output_type": "execute_result"
    }
   ],
   "source": [
    "text.shape"
   ]
  },
  {
   "cell_type": "code",
   "execution_count": 42,
   "metadata": {},
   "outputs": [],
   "source": [
    "test.drop('text', axis=1, inplace=True)\n"
   ]
  },
  {
   "cell_type": "code",
   "execution_count": 43,
   "metadata": {},
   "outputs": [
    {
     "data": {
      "text/plain": [
       "dtype('O')"
      ]
     },
     "execution_count": 43,
     "metadata": {},
     "output_type": "execute_result"
    }
   ],
   "source": [
    "text.dtype"
   ]
  },
  {
   "cell_type": "code",
   "execution_count": 44,
   "metadata": {},
   "outputs": [],
   "source": [
    "text_new = text.values.astype('U')"
   ]
  },
  {
   "cell_type": "code",
   "execution_count": 45,
   "metadata": {},
   "outputs": [],
   "source": [
    "test_word_features = word_vectorizer.transform(text[testindex])"
   ]
  },
  {
   "cell_type": "code",
   "execution_count": 46,
   "metadata": {},
   "outputs": [],
   "source": [
    "teacher_number_of_previously_posted_projects = test['teacher_number_of_previously_posted_projects']"
   ]
  },
  {
   "cell_type": "code",
   "execution_count": 47,
   "metadata": {},
   "outputs": [
    {
     "name": "stderr",
     "output_type": "stream",
     "text": [
      "C:\\Users\\M1050678\\AppData\\Local\\Continuum\\anaconda3\\lib\\site-packages\\sklearn\\utils\\validation.py:595: DataConversionWarning: Data with input dtype int64 was converted to float64 by StandardScaler.\n",
      "  warnings.warn(msg, DataConversionWarning)\n",
      "C:\\Users\\M1050678\\AppData\\Local\\Continuum\\anaconda3\\lib\\site-packages\\sklearn\\utils\\validation.py:595: DataConversionWarning: Data with input dtype int64 was converted to float64 by StandardScaler.\n",
      "  warnings.warn(msg, DataConversionWarning)\n"
     ]
    }
   ],
   "source": [
    "scaled = stdscalar.fit_transform(teacher_number_of_previously_posted_projects.values.reshape(-1,1))"
   ]
  },
  {
   "cell_type": "code",
   "execution_count": 48,
   "metadata": {},
   "outputs": [],
   "source": [
    "test.drop(['teacher_number_of_previously_posted_projects'],inplace  = True,axis=1)"
   ]
  },
  {
   "cell_type": "code",
   "execution_count": 49,
   "metadata": {},
   "outputs": [],
   "source": [
    "#ntest = pd.DataFrame(stdscalar.transform(test),columns=test.columns).set_index(new_index)\n"
   ]
  },
  {
   "cell_type": "code",
   "execution_count": 50,
   "metadata": {},
   "outputs": [
    {
     "data": {
      "text/plain": [
       "(78035, 466)"
      ]
     },
     "execution_count": 50,
     "metadata": {},
     "output_type": "execute_result"
    }
   ],
   "source": [
    "test.shape"
   ]
  },
  {
   "cell_type": "code",
   "execution_count": 51,
   "metadata": {},
   "outputs": [
    {
     "data": {
      "text/plain": [
       "(78035, 5000)"
      ]
     },
     "execution_count": 51,
     "metadata": {},
     "output_type": "execute_result"
    }
   ],
   "source": [
    "test_word_features.shape"
   ]
  },
  {
   "cell_type": "code",
   "execution_count": 52,
   "metadata": {},
   "outputs": [],
   "source": [
    "test_features = hstack([test_word_features,csr_matrix(test.loc[testindex,]),csr_matrix(scaled)], 'csr')\n"
   ]
  },
  {
   "cell_type": "code",
   "execution_count": 53,
   "metadata": {},
   "outputs": [],
   "source": [
    "loss = []\n"
   ]
  },
  {
   "cell_type": "code",
   "execution_count": 54,
   "metadata": {},
   "outputs": [],
   "source": [
    "from sklearn.linear_model import LogisticRegression\n"
   ]
  },
  {
   "cell_type": "code",
   "execution_count": 55,
   "metadata": {},
   "outputs": [],
   "source": [
    "logisticregression = LogisticRegression(solver=\"sag\", max_iter=200)\n"
   ]
  },
  {
   "cell_type": "code",
   "execution_count": 56,
   "metadata": {},
   "outputs": [
    {
     "name": "stderr",
     "output_type": "stream",
     "text": [
      "C:\\Users\\M1050678\\AppData\\Local\\Continuum\\anaconda3\\lib\\site-packages\\sklearn\\linear_model\\sag.py:334: ConvergenceWarning: The max_iter was reached which means the coef_ did not converge\n",
      "  \"the coef_ did not converge\", ConvergenceWarning)\n"
     ]
    },
    {
     "data": {
      "text/plain": [
       "LogisticRegression(C=1.0, class_weight=None, dual=False, fit_intercept=True,\n",
       "          intercept_scaling=1, max_iter=200, multi_class='warn',\n",
       "          n_jobs=None, penalty='l2', random_state=None, solver='sag',\n",
       "          tol=0.0001, verbose=0, warm_start=False)"
      ]
     },
     "execution_count": 56,
     "metadata": {},
     "output_type": "execute_result"
    }
   ],
   "source": [
    "logisticregression.fit(train_features,target)\n"
   ]
  },
  {
   "cell_type": "code",
   "execution_count": 57,
   "metadata": {},
   "outputs": [],
   "source": [
    "df = pd.DataFrame(logisticregression.predict_proba(test_features)[:, 1],columns=[\"project_is_approved\"],index=testindex)\n",
    "df.to_csv(\"result.csv\",index=True)\n"
   ]
  },
  {
   "cell_type": "code",
   "execution_count": null,
   "metadata": {},
   "outputs": [],
   "source": []
  },
  {
   "cell_type": "code",
   "execution_count": null,
   "metadata": {},
   "outputs": [],
   "source": []
  },
  {
   "cell_type": "code",
   "execution_count": null,
   "metadata": {},
   "outputs": [],
   "source": []
  },
  {
   "cell_type": "code",
   "execution_count": null,
   "metadata": {},
   "outputs": [],
   "source": []
  }
 ],
 "metadata": {
  "kernelspec": {
   "display_name": "Python 3",
   "language": "python",
   "name": "python3"
  },
  "language_info": {
   "codemirror_mode": {
    "name": "ipython",
    "version": 3
   },
   "file_extension": ".py",
   "mimetype": "text/x-python",
   "name": "python",
   "nbconvert_exporter": "python",
   "pygments_lexer": "ipython3",
   "version": "3.7.3"
  }
 },
 "nbformat": 4,
 "nbformat_minor": 2
}
